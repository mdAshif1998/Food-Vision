{
 "cells": [
  {
   "cell_type": "code",
   "execution_count": 1,
   "id": "c0914593",
   "metadata": {},
   "outputs": [],
   "source": [
    "import pandas as pd\n",
    "import os\n",
    "import requests\n",
    "import swifter\n",
    "import concurrent.futures\n",
    "from tqdm import tqdm\n",
    "import openpyxl\n",
    "import cv2"
   ]
  },
  {
   "cell_type": "code",
   "execution_count": 2,
   "id": "fbf87777",
   "metadata": {},
   "outputs": [],
   "source": [
    "import aiohttp\n",
    "import asyncio\n",
    "import httpx\n",
    "import seaborn as sns\n",
    "import matplotlib.pyplot as plt\n",
    "from bs4 import BeautifulSoup\n",
    "import re\n",
    "import unidecode"
   ]
  },
  {
   "cell_type": "code",
   "execution_count": 3,
   "id": "2ea29d72",
   "metadata": {},
   "outputs": [],
   "source": [
    "import string\n",
    "from autocorrect import Speller\n",
    "from stop_words import get_stop_words"
   ]
  },
  {
   "cell_type": "code",
   "execution_count": 4,
   "id": "4613b783",
   "metadata": {},
   "outputs": [
    {
     "name": "stderr",
     "output_type": "stream",
     "text": [
      "[nltk_data] Downloading package stopwords to\n",
      "[nltk_data]     C:\\Users\\MSI\\AppData\\Roaming\\nltk_data...\n",
      "[nltk_data]   Package stopwords is already up-to-date!\n"
     ]
    }
   ],
   "source": [
    "import nltk\n",
    "nltk.download('stopwords')\n",
    "from nltk.tokenize import word_tokenize \n",
    "from nltk.stem import WordNetLemmatizer\n",
    "from nltk.corpus import stopwords \n",
    "from nltk import word_tokenize\n",
    "from nltk.tokenize import RegexpTokenizer\n",
    "from nltk.stem.snowball import SnowballStemmer"
   ]
  },
  {
   "cell_type": "code",
   "execution_count": 5,
   "id": "7a97f94a",
   "metadata": {},
   "outputs": [
    {
     "name": "stderr",
     "output_type": "stream",
     "text": [
      "[nltk_data] Downloading package punkt to\n",
      "[nltk_data]     C:\\Users\\MSI\\AppData\\Roaming\\nltk_data...\n",
      "[nltk_data]   Package punkt is already up-to-date!\n",
      "[nltk_data] Downloading package wordnet to\n",
      "[nltk_data]     C:\\Users\\MSI\\AppData\\Roaming\\nltk_data...\n",
      "[nltk_data]   Package wordnet is already up-to-date!\n",
      "[nltk_data] Downloading package omw-1.4 to\n",
      "[nltk_data]     C:\\Users\\MSI\\AppData\\Roaming\\nltk_data...\n",
      "[nltk_data]   Package omw-1.4 is already up-to-date!\n"
     ]
    },
    {
     "data": {
      "text/plain": [
       "True"
      ]
     },
     "execution_count": 5,
     "metadata": {},
     "output_type": "execute_result"
    }
   ],
   "source": [
    "nltk.download('punkt')\n",
    "nltk.download('wordnet')\n",
    "nltk.download('omw-1.4')"
   ]
  },
  {
   "cell_type": "code",
   "execution_count": 6,
   "id": "7be8c5fd",
   "metadata": {},
   "outputs": [],
   "source": [
    "w_tokenizer = nltk.tokenize.WhitespaceTokenizer()\n",
    "lemmatizer = nltk.stem.WordNetLemmatizer()\n",
    "stoplist = stopwords.words('english') \n",
    "stoplist = set(stoplist)"
   ]
  },
  {
   "cell_type": "code",
   "execution_count": 7,
   "id": "4bda7c74",
   "metadata": {},
   "outputs": [],
   "source": [
    "# !pip install aiohttp\n",
    "# !pip install httpx\n",
    "# !pip install --upgrade anyio\n",
    "# !pip install autocorrect\n",
    "# !pip install stop_words"
   ]
  },
  {
   "cell_type": "code",
   "execution_count": 8,
   "id": "ef724f0b",
   "metadata": {},
   "outputs": [],
   "source": [
    "import warnings\n",
    "warnings.filterwarnings(\"ignore\")"
   ]
  },
  {
   "cell_type": "code",
   "execution_count": 9,
   "id": "6e5d28ec",
   "metadata": {},
   "outputs": [],
   "source": [
    "base_folder_location = \"E:/\""
   ]
  },
  {
   "cell_type": "code",
   "execution_count": 10,
   "id": "068d405e",
   "metadata": {},
   "outputs": [],
   "source": [
    "# !pip install opencv-python"
   ]
  },
  {
   "cell_type": "code",
   "execution_count": 11,
   "id": "0fe97356",
   "metadata": {},
   "outputs": [],
   "source": [
    "image_path = os.path.join(base_folder_location, \"image\")\n",
    "excel_path = os.path.join(base_folder_location, \"excel\")"
   ]
  },
  {
   "cell_type": "code",
   "execution_count": 8,
   "id": "1b9c28fa",
   "metadata": {},
   "outputs": [],
   "source": [
    "# Ingredient layer 1 information JSON to Dataframe conversion\n",
    "ingredient_layer_1_information_df = pd.read_json(os.path.join(base_folder_location, \"layer1.json\"))"
   ]
  },
  {
   "cell_type": "code",
   "execution_count": 9,
   "id": "f1f3e775",
   "metadata": {},
   "outputs": [
    {
     "data": {
      "text/html": [
       "<div>\n",
       "<style scoped>\n",
       "    .dataframe tbody tr th:only-of-type {\n",
       "        vertical-align: middle;\n",
       "    }\n",
       "\n",
       "    .dataframe tbody tr th {\n",
       "        vertical-align: top;\n",
       "    }\n",
       "\n",
       "    .dataframe thead th {\n",
       "        text-align: right;\n",
       "    }\n",
       "</style>\n",
       "<table border=\"1\" class=\"dataframe\">\n",
       "  <thead>\n",
       "    <tr style=\"text-align: right;\">\n",
       "      <th></th>\n",
       "      <th>ingredients</th>\n",
       "      <th>url</th>\n",
       "      <th>partition</th>\n",
       "      <th>title</th>\n",
       "      <th>id</th>\n",
       "      <th>instructions</th>\n",
       "    </tr>\n",
       "  </thead>\n",
       "  <tbody>\n",
       "    <tr>\n",
       "      <th>0</th>\n",
       "      <td>[{'text': '6 ounces penne'}, {'text': '2 cups ...</td>\n",
       "      <td>http://www.epicurious.com/recipes/food/views/-...</td>\n",
       "      <td>train</td>\n",
       "      <td>Worlds Best Mac and Cheese</td>\n",
       "      <td>000018c8a5</td>\n",
       "      <td>[{'text': 'Preheat the oven to 350 F. Butter o...</td>\n",
       "    </tr>\n",
       "    <tr>\n",
       "      <th>1</th>\n",
       "      <td>[{'text': '1 c. elbow macaroni'}, {'text': '1 ...</td>\n",
       "      <td>http://cookeatshare.com/recipes/dilly-macaroni...</td>\n",
       "      <td>train</td>\n",
       "      <td>Dilly Macaroni Salad Recipe</td>\n",
       "      <td>000033e39b</td>\n",
       "      <td>[{'text': 'Cook macaroni according to package ...</td>\n",
       "    </tr>\n",
       "    <tr>\n",
       "      <th>2</th>\n",
       "      <td>[{'text': '8 tomatoes, quartered'}, {'text': '...</td>\n",
       "      <td>http://www.foodnetwork.com/recipes/gazpacho1.html</td>\n",
       "      <td>train</td>\n",
       "      <td>Gazpacho</td>\n",
       "      <td>000035f7ed</td>\n",
       "      <td>[{'text': 'Add the tomatoes to a food processo...</td>\n",
       "    </tr>\n",
       "    <tr>\n",
       "      <th>3</th>\n",
       "      <td>[{'text': '2 12 cups milk'}, {'text': '1 12 cu...</td>\n",
       "      <td>http://www.food.com/recipe/crunchy-onion-potat...</td>\n",
       "      <td>test</td>\n",
       "      <td>Crunchy Onion Potato Bake</td>\n",
       "      <td>00003a70b1</td>\n",
       "      <td>[{'text': 'Preheat oven to 350 degrees Fahrenh...</td>\n",
       "    </tr>\n",
       "    <tr>\n",
       "      <th>4</th>\n",
       "      <td>[{'text': '1 (3 ounce) package watermelon gela...</td>\n",
       "      <td>http://www.food.com/recipe/cool-n-easy-creamy-...</td>\n",
       "      <td>train</td>\n",
       "      <td>Cool 'n Easy Creamy Watermelon Pie</td>\n",
       "      <td>00004320bb</td>\n",
       "      <td>[{'text': 'Dissolve Jello in boiling water.'},...</td>\n",
       "    </tr>\n",
       "    <tr>\n",
       "      <th>5</th>\n",
       "      <td>[{'text': '12 cup shredded coconut'}, {'text':...</td>\n",
       "      <td>http://www.food.com/recipe/easy-tropical-beef-...</td>\n",
       "      <td>train</td>\n",
       "      <td>Easy Tropical Beef Skillet</td>\n",
       "      <td>0000631d90</td>\n",
       "      <td>[{'text': 'In a large skillet, toast the cocon...</td>\n",
       "    </tr>\n",
       "    <tr>\n",
       "      <th>6</th>\n",
       "      <td>[{'text': '2 Chicken thighs'}, {'text': '2 tsp...</td>\n",
       "      <td>https://cookpad.com/us/recipes/150100-kombu-te...</td>\n",
       "      <td>train</td>\n",
       "      <td>Kombu Tea Grilled Chicken Thigh</td>\n",
       "      <td>000075604a</td>\n",
       "      <td>[{'text': 'Pierce the skin of the chicken with...</td>\n",
       "    </tr>\n",
       "    <tr>\n",
       "      <th>7</th>\n",
       "      <td>[{'text': '6 -8 cups fresh rhubarb, or'}, {'te...</td>\n",
       "      <td>http://www.food.com/recipe/strawberry-rhubarb-...</td>\n",
       "      <td>train</td>\n",
       "      <td>Strawberry Rhubarb Dump Cake</td>\n",
       "      <td>00007bfd16</td>\n",
       "      <td>[{'text': 'Put ingredients in a buttered 9 x 1...</td>\n",
       "    </tr>\n",
       "    <tr>\n",
       "      <th>8</th>\n",
       "      <td>[{'text': '8 ounces, weight Light Fat Free Van...</td>\n",
       "      <td>http://tastykitchen.com/recipes/breakfastbrunc...</td>\n",
       "      <td>train</td>\n",
       "      <td>Yogurt Parfaits</td>\n",
       "      <td>000095fc1d</td>\n",
       "      <td>[{'text': 'Layer all ingredients in a serving ...</td>\n",
       "    </tr>\n",
       "    <tr>\n",
       "      <th>9</th>\n",
       "      <td>[{'text': '2 cups flour'}, {'text': '1 tablesp...</td>\n",
       "      <td>http://www.food.com/recipe/zucchini-nut-bread-...</td>\n",
       "      <td>train</td>\n",
       "      <td>Zucchini Nut Bread</td>\n",
       "      <td>0000973574</td>\n",
       "      <td>[{'text': 'Sift dry ingredients.'}, {'text': '...</td>\n",
       "    </tr>\n",
       "    <tr>\n",
       "      <th>10</th>\n",
       "      <td>[{'text': '1/2 cup green onions, chopped'}, {'...</td>\n",
       "      <td>http://www.kraftrecipes.com/recipes/salmon-sal...</td>\n",
       "      <td>train</td>\n",
       "      <td>Salmon &amp; Salad a La SPORTZ</td>\n",
       "      <td>0000a4bcf6</td>\n",
       "      <td>[{'text': 'Chop green onions; chop red peppers...</td>\n",
       "    </tr>\n",
       "    <tr>\n",
       "      <th>11</th>\n",
       "      <td>[{'text': '1 teaspoon fennel seeds'}, {'text':...</td>\n",
       "      <td>http://www.epicurious.com/recipes/food/views/f...</td>\n",
       "      <td>train</td>\n",
       "      <td>Fennel-Rubbed Pork Tenderloin with Roasted Fen...</td>\n",
       "      <td>0000b1e2b5</td>\n",
       "      <td>[{'text': 'Preheat oven to 350F with rack in m...</td>\n",
       "    </tr>\n",
       "    <tr>\n",
       "      <th>12</th>\n",
       "      <td>[{'text': '1 (750 ml) bottle rose wine, chille...</td>\n",
       "      <td>http://www.food.com/recipe/pink-sangria-305385</td>\n",
       "      <td>train</td>\n",
       "      <td>Pink Sangria</td>\n",
       "      <td>0000c79afb</td>\n",
       "      <td>[{'text': 'In a pitcher, combine all the ingre...</td>\n",
       "    </tr>\n",
       "    <tr>\n",
       "      <th>13</th>\n",
       "      <td>[{'text': '14 cup butter'}, {'text': '34 cup b...</td>\n",
       "      <td>http://www.food.com/recipe/pineapple-loaf-88070</td>\n",
       "      <td>train</td>\n",
       "      <td>Pineapple Loaf</td>\n",
       "      <td>0000ed95f8</td>\n",
       "      <td>[{'text': 'Cream butter, sugar and egg.'}, {'t...</td>\n",
       "    </tr>\n",
       "    <tr>\n",
       "      <th>14</th>\n",
       "      <td>[{'text': '200 grams Cake flour'}, {'text': '1...</td>\n",
       "      <td>https://cookpad.com/us/recipes/156014-brown-su...</td>\n",
       "      <td>train</td>\n",
       "      <td>Brown Sugar 'Karintou' Snacks</td>\n",
       "      <td>00010379bf</td>\n",
       "      <td>[{'text': 'In a bowl, mix flour, baking powder...</td>\n",
       "    </tr>\n",
       "    <tr>\n",
       "      <th>15</th>\n",
       "      <td>[{'text': '1 can tomato sauce'}, {'text': '1 c...</td>\n",
       "      <td>http://online-cookbook.com/goto/cook/rpage/000A09</td>\n",
       "      <td>train</td>\n",
       "      <td>Corn Casserole</td>\n",
       "      <td>000106ec3c</td>\n",
       "      <td>[{'text': 'Fry hamburger and onion together.'}...</td>\n",
       "    </tr>\n",
       "    <tr>\n",
       "      <th>16</th>\n",
       "      <td>[{'text': '1 12 lbs ground beef'}, {'text': '3...</td>\n",
       "      <td>http://www.food.com/recipe/grandmommys-mexical...</td>\n",
       "      <td>train</td>\n",
       "      <td>Grandmommy's Mexicali Meatloaf</td>\n",
       "      <td>00010c7867</td>\n",
       "      <td>[{'text': 'Combine beef, oats, tomato juice, e...</td>\n",
       "    </tr>\n",
       "    <tr>\n",
       "      <th>17</th>\n",
       "      <td>[{'text': '1 (10 ounce) package frozen chopped...</td>\n",
       "      <td>http://www.food.com/recipe/broccoli-rice-bake-...</td>\n",
       "      <td>train</td>\n",
       "      <td>Broccoli Rice Bake</td>\n",
       "      <td>00010d44c7</td>\n",
       "      <td>[{'text': 'Mix all ingredients and pour into a...</td>\n",
       "    </tr>\n",
       "    <tr>\n",
       "      <th>18</th>\n",
       "      <td>[{'text': '1/2 cup A.1. Classic Marinade'}, {'...</td>\n",
       "      <td>http://www.kraftrecipes.com/recipes/steak-aspa...</td>\n",
       "      <td>val</td>\n",
       "      <td>Steak &amp; Asparagus Wraps</td>\n",
       "      <td>00011e0b2c</td>\n",
       "      <td>[{'text': 'Pour marinade over steak in reseala...</td>\n",
       "    </tr>\n",
       "    <tr>\n",
       "      <th>19</th>\n",
       "      <td>[{'text': '1 cup lentils'}, {'text': '12 onion...</td>\n",
       "      <td>http://www.food.com/recipe/lentils-vegetable-s...</td>\n",
       "      <td>val</td>\n",
       "      <td>Lentils Vegetable Soup</td>\n",
       "      <td>00011fc1f9</td>\n",
       "      <td>[{'text': 'Saute the onions, carrots, celery w...</td>\n",
       "    </tr>\n",
       "  </tbody>\n",
       "</table>\n",
       "</div>"
      ],
      "text/plain": [
       "                                          ingredients  \\\n",
       "0   [{'text': '6 ounces penne'}, {'text': '2 cups ...   \n",
       "1   [{'text': '1 c. elbow macaroni'}, {'text': '1 ...   \n",
       "2   [{'text': '8 tomatoes, quartered'}, {'text': '...   \n",
       "3   [{'text': '2 12 cups milk'}, {'text': '1 12 cu...   \n",
       "4   [{'text': '1 (3 ounce) package watermelon gela...   \n",
       "5   [{'text': '12 cup shredded coconut'}, {'text':...   \n",
       "6   [{'text': '2 Chicken thighs'}, {'text': '2 tsp...   \n",
       "7   [{'text': '6 -8 cups fresh rhubarb, or'}, {'te...   \n",
       "8   [{'text': '8 ounces, weight Light Fat Free Van...   \n",
       "9   [{'text': '2 cups flour'}, {'text': '1 tablesp...   \n",
       "10  [{'text': '1/2 cup green onions, chopped'}, {'...   \n",
       "11  [{'text': '1 teaspoon fennel seeds'}, {'text':...   \n",
       "12  [{'text': '1 (750 ml) bottle rose wine, chille...   \n",
       "13  [{'text': '14 cup butter'}, {'text': '34 cup b...   \n",
       "14  [{'text': '200 grams Cake flour'}, {'text': '1...   \n",
       "15  [{'text': '1 can tomato sauce'}, {'text': '1 c...   \n",
       "16  [{'text': '1 12 lbs ground beef'}, {'text': '3...   \n",
       "17  [{'text': '1 (10 ounce) package frozen chopped...   \n",
       "18  [{'text': '1/2 cup A.1. Classic Marinade'}, {'...   \n",
       "19  [{'text': '1 cup lentils'}, {'text': '12 onion...   \n",
       "\n",
       "                                                  url partition  \\\n",
       "0   http://www.epicurious.com/recipes/food/views/-...     train   \n",
       "1   http://cookeatshare.com/recipes/dilly-macaroni...     train   \n",
       "2   http://www.foodnetwork.com/recipes/gazpacho1.html     train   \n",
       "3   http://www.food.com/recipe/crunchy-onion-potat...      test   \n",
       "4   http://www.food.com/recipe/cool-n-easy-creamy-...     train   \n",
       "5   http://www.food.com/recipe/easy-tropical-beef-...     train   \n",
       "6   https://cookpad.com/us/recipes/150100-kombu-te...     train   \n",
       "7   http://www.food.com/recipe/strawberry-rhubarb-...     train   \n",
       "8   http://tastykitchen.com/recipes/breakfastbrunc...     train   \n",
       "9   http://www.food.com/recipe/zucchini-nut-bread-...     train   \n",
       "10  http://www.kraftrecipes.com/recipes/salmon-sal...     train   \n",
       "11  http://www.epicurious.com/recipes/food/views/f...     train   \n",
       "12     http://www.food.com/recipe/pink-sangria-305385     train   \n",
       "13    http://www.food.com/recipe/pineapple-loaf-88070     train   \n",
       "14  https://cookpad.com/us/recipes/156014-brown-su...     train   \n",
       "15  http://online-cookbook.com/goto/cook/rpage/000A09     train   \n",
       "16  http://www.food.com/recipe/grandmommys-mexical...     train   \n",
       "17  http://www.food.com/recipe/broccoli-rice-bake-...     train   \n",
       "18  http://www.kraftrecipes.com/recipes/steak-aspa...       val   \n",
       "19  http://www.food.com/recipe/lentils-vegetable-s...       val   \n",
       "\n",
       "                                                title          id  \\\n",
       "0                          Worlds Best Mac and Cheese  000018c8a5   \n",
       "1                         Dilly Macaroni Salad Recipe  000033e39b   \n",
       "2                                            Gazpacho  000035f7ed   \n",
       "3                           Crunchy Onion Potato Bake  00003a70b1   \n",
       "4                  Cool 'n Easy Creamy Watermelon Pie  00004320bb   \n",
       "5                          Easy Tropical Beef Skillet  0000631d90   \n",
       "6                     Kombu Tea Grilled Chicken Thigh  000075604a   \n",
       "7                        Strawberry Rhubarb Dump Cake  00007bfd16   \n",
       "8                                     Yogurt Parfaits  000095fc1d   \n",
       "9                                  Zucchini Nut Bread  0000973574   \n",
       "10                         Salmon & Salad a La SPORTZ  0000a4bcf6   \n",
       "11  Fennel-Rubbed Pork Tenderloin with Roasted Fen...  0000b1e2b5   \n",
       "12                                       Pink Sangria  0000c79afb   \n",
       "13                                     Pineapple Loaf  0000ed95f8   \n",
       "14                      Brown Sugar 'Karintou' Snacks  00010379bf   \n",
       "15                                     Corn Casserole  000106ec3c   \n",
       "16                     Grandmommy's Mexicali Meatloaf  00010c7867   \n",
       "17                                 Broccoli Rice Bake  00010d44c7   \n",
       "18                            Steak & Asparagus Wraps  00011e0b2c   \n",
       "19                             Lentils Vegetable Soup  00011fc1f9   \n",
       "\n",
       "                                         instructions  \n",
       "0   [{'text': 'Preheat the oven to 350 F. Butter o...  \n",
       "1   [{'text': 'Cook macaroni according to package ...  \n",
       "2   [{'text': 'Add the tomatoes to a food processo...  \n",
       "3   [{'text': 'Preheat oven to 350 degrees Fahrenh...  \n",
       "4   [{'text': 'Dissolve Jello in boiling water.'},...  \n",
       "5   [{'text': 'In a large skillet, toast the cocon...  \n",
       "6   [{'text': 'Pierce the skin of the chicken with...  \n",
       "7   [{'text': 'Put ingredients in a buttered 9 x 1...  \n",
       "8   [{'text': 'Layer all ingredients in a serving ...  \n",
       "9   [{'text': 'Sift dry ingredients.'}, {'text': '...  \n",
       "10  [{'text': 'Chop green onions; chop red peppers...  \n",
       "11  [{'text': 'Preheat oven to 350F with rack in m...  \n",
       "12  [{'text': 'In a pitcher, combine all the ingre...  \n",
       "13  [{'text': 'Cream butter, sugar and egg.'}, {'t...  \n",
       "14  [{'text': 'In a bowl, mix flour, baking powder...  \n",
       "15  [{'text': 'Fry hamburger and onion together.'}...  \n",
       "16  [{'text': 'Combine beef, oats, tomato juice, e...  \n",
       "17  [{'text': 'Mix all ingredients and pour into a...  \n",
       "18  [{'text': 'Pour marinade over steak in reseala...  \n",
       "19  [{'text': 'Saute the onions, carrots, celery w...  "
      ]
     },
     "execution_count": 9,
     "metadata": {},
     "output_type": "execute_result"
    }
   ],
   "source": [
    "# ingredient_layer_1_information_df \n",
    "ingredient_layer_1_information_df.head(20)"
   ]
  },
  {
   "cell_type": "code",
   "execution_count": 10,
   "id": "952e8b51",
   "metadata": {},
   "outputs": [
    {
     "data": {
      "text/plain": [
       "(1029720, 6)"
      ]
     },
     "execution_count": 10,
     "metadata": {},
     "output_type": "execute_result"
    }
   ],
   "source": [
    "# Print the dimension of ingredient_layer_1_information_df\n",
    "ingredient_layer_1_information_df.shape"
   ]
  },
  {
   "cell_type": "code",
   "execution_count": 11,
   "id": "b6d1870f",
   "metadata": {},
   "outputs": [
    {
     "data": {
      "text/plain": [
       "1029720"
      ]
     },
     "execution_count": 11,
     "metadata": {},
     "output_type": "execute_result"
    }
   ],
   "source": [
    "ingredient_layer_1_information_df[\"id\"].nunique()"
   ]
  },
  {
   "cell_type": "code",
   "execution_count": 12,
   "id": "46351ef8",
   "metadata": {},
   "outputs": [],
   "source": [
    "# Ingredient layer 2 information JSON to Dataframe conversion\n",
    "ingredient_layer_2_information_df = pd.read_json(os.path.join(base_folder_location, \"layer2.json\"))"
   ]
  },
  {
   "cell_type": "code",
   "execution_count": 13,
   "id": "8a9fcac2",
   "metadata": {},
   "outputs": [],
   "source": [
    "master_ingredient_df = pd.merge(ingredient_layer_1_information_df, ingredient_layer_2_information_df, on=['id'])"
   ]
  },
  {
   "cell_type": "code",
   "execution_count": 15,
   "id": "3a51f47c",
   "metadata": {},
   "outputs": [
    {
     "data": {
      "text/plain": [
       "(402760, 7)"
      ]
     },
     "execution_count": 15,
     "metadata": {},
     "output_type": "execute_result"
    }
   ],
   "source": [
    "master_ingredient_df.shape"
   ]
  },
  {
   "cell_type": "code",
   "execution_count": 16,
   "id": "bfe51438",
   "metadata": {},
   "outputs": [],
   "source": [
    "master_ingredient_df = master_ingredient_df[['id', 'ingredients', 'title', 'instructions', 'partition', 'images']]"
   ]
  },
  {
   "cell_type": "code",
   "execution_count": 17,
   "id": "5e18451b",
   "metadata": {},
   "outputs": [
    {
     "data": {
      "text/plain": [
       "train    281598\n",
       "test      60740\n",
       "val       60422\n",
       "Name: partition, dtype: int64"
      ]
     },
     "execution_count": 17,
     "metadata": {},
     "output_type": "execute_result"
    }
   ],
   "source": [
    "master_ingredient_df['partition'].value_counts()"
   ]
  },
  {
   "cell_type": "code",
   "execution_count": 18,
   "id": "989c413b",
   "metadata": {},
   "outputs": [],
   "source": [
    "master_ingredient_df_train = master_ingredient_df[master_ingredient_df['partition'] == \"train\"]\n",
    "master_ingredient_df_test = master_ingredient_df[master_ingredient_df['partition'] == \"test\"]\n",
    "master_ingredient_df_val = master_ingredient_df[master_ingredient_df['partition'] == \"val\"]"
   ]
  },
  {
   "cell_type": "code",
   "execution_count": 19,
   "id": "37573d89",
   "metadata": {},
   "outputs": [
    {
     "data": {
      "text/plain": [
       "281598"
      ]
     },
     "execution_count": 19,
     "metadata": {},
     "output_type": "execute_result"
    }
   ],
   "source": [
    "master_ingredient_df_train[\"id\"].nunique()"
   ]
  },
  {
   "cell_type": "code",
   "execution_count": 20,
   "id": "410f549d",
   "metadata": {},
   "outputs": [],
   "source": [
    "def check_image_status(list_of_dict):\n",
    "    if isinstance(list_of_dict, list) and len(list_of_dict) > 0:\n",
    "        # Accessing the first dictionary in the list\n",
    "        image_info_dict = {'id': list_of_dict[0].get('id'), 'url': list_of_dict[0].get('url')}\n",
    "        return image_info_dict\n",
    "    else:\n",
    "        # Handling the case when the list is empty or not a list\n",
    "        return \"Empty\""
   ]
  },
  {
   "cell_type": "code",
   "execution_count": 21,
   "id": "9fe97e55",
   "metadata": {},
   "outputs": [],
   "source": [
    "def get_image_url(image_info_dict):\n",
    "    if len(image_info_dict) != 0:\n",
    "        if 'url' in image_info_dict:\n",
    "            return image_info_dict['url']\n",
    "        else:\n",
    "            return \"Empty\"\n",
    "    else:\n",
    "        return \"Empty\"\n",
    "def get_image_id(image_info_dict):\n",
    "    if len(image_info_dict) != 0:\n",
    "        if 'id' in image_info_dict:\n",
    "            return image_info_dict['id']\n",
    "        else:\n",
    "            return \"Empty\"\n",
    "    else:\n",
    "        return \"Empty\""
   ]
  },
  {
   "cell_type": "code",
   "execution_count": 22,
   "id": "fc378e96",
   "metadata": {},
   "outputs": [
    {
     "name": "stderr",
     "output_type": "stream",
     "text": [
      "100%|██████████████████████████████████████████████████████████████████████| 281598/281598 [00:00<00:00, 400792.70it/s]\n"
     ]
    }
   ],
   "source": [
    "# Initialize tqdm with total equal to the length of DataFrame\n",
    "# Use tqdm with apply\n",
    "tqdm.pandas()\n",
    "\n",
    "# Apply the function with progress bar\n",
    "master_ingredient_df_train['Image_Status'] = master_ingredient_df_train['images'].progress_apply(check_image_status)\n",
    "\n",
    "\n",
    "# master_ingredient_df_train['Image_Status'] = master_ingredient_df_train['images'].apply(check_image_status)"
   ]
  },
  {
   "cell_type": "code",
   "execution_count": 23,
   "id": "baef4702",
   "metadata": {},
   "outputs": [
    {
     "name": "stdout",
     "output_type": "stream",
     "text": [
      "(0, 7)\n"
     ]
    }
   ],
   "source": [
    "master_ingredient_df_train_empty_image_info = master_ingredient_df_train[master_ingredient_df_train['Image_Status'] == \"Empty\"]\n",
    "print(master_ingredient_df_train_empty_image_info.shape)"
   ]
  },
  {
   "cell_type": "code",
   "execution_count": 24,
   "id": "d230f474",
   "metadata": {},
   "outputs": [
    {
     "data": {
      "text/plain": [
       "281598"
      ]
     },
     "execution_count": 24,
     "metadata": {},
     "output_type": "execute_result"
    }
   ],
   "source": [
    "master_ingredient_df_train[\"id\"].nunique()"
   ]
  },
  {
   "cell_type": "code",
   "execution_count": 25,
   "id": "cc1fb756",
   "metadata": {},
   "outputs": [
    {
     "name": "stderr",
     "output_type": "stream",
     "text": [
      "100%|██████████████████████████████████████████████████████████████████████| 281598/281598 [00:00<00:00, 951035.11it/s]\n"
     ]
    }
   ],
   "source": [
    "# Use tqdm with apply\n",
    "tqdm.pandas()\n",
    "master_ingredient_df_train['image_id'] = master_ingredient_df_train['Image_Status'].progress_apply(get_image_id)"
   ]
  },
  {
   "cell_type": "code",
   "execution_count": 26,
   "id": "87cb7e3f",
   "metadata": {},
   "outputs": [
    {
     "name": "stderr",
     "output_type": "stream",
     "text": [
      "100%|██████████████████████████████████████████████████████████████████████| 281598/281598 [00:00<00:00, 963541.02it/s]\n"
     ]
    }
   ],
   "source": [
    "# Use tqdm with apply\n",
    "tqdm.pandas()\n",
    "master_ingredient_df_train['image_url'] = master_ingredient_df_train['Image_Status'].progress_apply(get_image_url)"
   ]
  },
  {
   "cell_type": "code",
   "execution_count": 27,
   "id": "3f0e0d56",
   "metadata": {},
   "outputs": [],
   "source": [
    "def get_image_from_url(image_url_data):\n",
    "    image_url_info = str(image_url_data['image_url'])\n",
    "    image_id_info = str(image_url_data['image_id'])\n",
    "    try:\n",
    "        new_filename = image_id_info\n",
    "        image_download_path = os.path.join(image_path, new_filename)\n",
    "        r = requests.get(image_url_info, timeout=300)\n",
    "        with open(image_download_path, \"wb\") as f:\n",
    "            f.write(r.content)\n",
    "        return {'image_id': new_filename, 'image_download_status': \"Download Success\", 'request_response_status': str(r)}\n",
    "        \n",
    "    except:\n",
    "        \n",
    "        return {'image_id': new_filename, 'image_download_status': \"Download Failed\", 'request_response_status': \"Status Failed\"}"
   ]
  },
  {
   "cell_type": "code",
   "execution_count": 28,
   "id": "a41d363b",
   "metadata": {},
   "outputs": [],
   "source": [
    "def track_progress(futures):\n",
    "    for future in tqdm(concurrent.futures.as_completed(futures), total=len(futures)):\n",
    "        # Consume the future to ensure any exception is raised\n",
    "        future.result()"
   ]
  },
  {
   "cell_type": "code",
   "execution_count": 29,
   "id": "52688fc9",
   "metadata": {},
   "outputs": [],
   "source": [
    "def check_each_image_download_status(data):\n",
    "    image_global_path = os.path.join(image_path, f\"{data}\")\n",
    "    if os.path.isfile(image_global_path):\n",
    "        image_content = cv2.imread(image_global_path)\n",
    "        if str(type(image_content)) == \"<class 'NoneType'>\":\n",
    "            return \"Download Error\"\n",
    "        else:\n",
    "            return \"Download Success\"\n",
    "    else:\n",
    "        return \"Download Failed\""
   ]
  },
  {
   "cell_type": "code",
   "execution_count": 30,
   "id": "79719619",
   "metadata": {},
   "outputs": [],
   "source": [
    "master_ingredient_df_train_first_slot = master_ingredient_df_train.head(50000)\n",
    "master_ingredient_df_train_first_slot = master_ingredient_df_train_first_slot.reset_index().drop(['index'], axis=1)"
   ]
  },
  {
   "cell_type": "code",
   "execution_count": 48,
   "id": "2611b69b",
   "metadata": {},
   "outputs": [],
   "source": [
    "df_with_image_id_and_url = master_ingredient_df_train_first_slot[['image_id', 'image_url']]"
   ]
  },
  {
   "cell_type": "code",
   "execution_count": 31,
   "id": "1e0721fb",
   "metadata": {},
   "outputs": [],
   "source": [
    "all_image_information = [row.to_dict() for _, row in df_with_image_id_and_url.iterrows()]"
   ]
  },
  {
   "cell_type": "code",
   "execution_count": 32,
   "id": "b1db9bf0",
   "metadata": {},
   "outputs": [
    {
     "data": {
      "text/plain": [
       "{'image_id': '6bdca6e490.jpg',\n",
       " 'image_url': 'https://img-global.cpcdn.com/001_recipes/5806945844854784/0x0/photo.jpg'}"
      ]
     },
     "execution_count": 32,
     "metadata": {},
     "output_type": "execute_result"
    }
   ],
   "source": [
    "all_image_information[0]"
   ]
  },
  {
   "cell_type": "code",
   "execution_count": 46,
   "id": "48ffa11e",
   "metadata": {},
   "outputs": [],
   "source": [
    "async def download_image(session, image_url_data, image_path):\n",
    "    image_url_info = str(image_url_data['image_url'])\n",
    "    image_id_info = str(image_url_data['image_id'])\n",
    "    new_filename = image_id_info\n",
    "    try:\n",
    "        image_download_path = os.path.join(image_path, new_filename)\n",
    "        async with session.get(image_url_info, timeout=300) as response:\n",
    "            if response.status == 200:\n",
    "\n",
    "                with open(image_download_path, \"wb\") as f:\n",
    "                    async for data in response.content.iter_chunked(1024):\n",
    "                        f.write(data)\n",
    "\n",
    "                return {'image_id': new_filename, 'image_download_status': \"Download Success\"}\n",
    "            else:\n",
    "                return {'image_id': new_filename, 'image_download_status': \"Download Failed\", 'request_response_status': response.status}\n",
    "    except Exception as e:\n",
    "        return {'image_id': new_filename, 'image_download_status': \"Download Failed\", 'request_response_status': str(e)}\n",
    "\n",
    "\n",
    "async def download_images(all_image_url_data_list, image_path):\n",
    "    async with aiohttp.ClientSession() as session:\n",
    "        tasks = []\n",
    "        for image_url_data in tqdm(all_image_url_data_list, total=len(all_image_url_data_list)):\n",
    "            task = download_image(session, image_url_data, image_path)\n",
    "            tasks.append(task)\n",
    "        with tqdm(total=len(all_image_url_data_list)) as pbar:\n",
    "            results = []\n",
    "            for coro in asyncio.as_completed(tasks):\n",
    "                result = await coro\n",
    "                results.append(result)\n",
    "                pbar.update()  # Update progress bar for each completed task\n",
    "            return results\n",
    "        # return await asyncio.gather(*tasks)"
   ]
  },
  {
   "cell_type": "code",
   "execution_count": 47,
   "id": "7a9ca861",
   "metadata": {},
   "outputs": [],
   "source": [
    "# Example usage:\n",
    "async def main():\n",
    "    await download_images(image_url_data_list, all_image_path)\n",
    "\n",
    "\n",
    "if __name__ == \"__main__\":\n",
    "    image_url_data_list = all_image_information\n",
    "    if asyncio.get_event_loop().is_running():\n",
    "        loop = asyncio.get_event_loop()\n",
    "        loop.create_task(main())\n",
    "    else:\n",
    "        asyncio.run(main())"
   ]
  },
  {
   "cell_type": "code",
   "execution_count": null,
   "id": "49134ac1",
   "metadata": {},
   "outputs": [],
   "source": []
  },
  {
   "cell_type": "code",
   "execution_count": null,
   "id": "047eb656",
   "metadata": {},
   "outputs": [],
   "source": []
  },
  {
   "cell_type": "code",
   "execution_count": null,
   "id": "03899598",
   "metadata": {},
   "outputs": [],
   "source": []
  },
  {
   "cell_type": "code",
   "execution_count": null,
   "id": "ec0eb45e",
   "metadata": {},
   "outputs": [
    {
     "name": "stderr",
     "output_type": "stream",
     "text": [
      "100%|███████████████████████████████████████████████████████████████████████████▉| 49993/50000 [30:47<00:01,  4.67it/s]"
     ]
    }
   ],
   "source": [
    "with concurrent.futures.ThreadPoolExecutor() as executor:\n",
    "    futures = [executor.submit(get_image_from_url, image_info) for image_info in all_image_information]\n",
    "    track_progress(futures)"
   ]
  },
  {
   "cell_type": "code",
   "execution_count": 66,
   "id": "ce4506a1",
   "metadata": {},
   "outputs": [],
   "source": [
    "with concurrent.futures.ThreadPoolExecutor() as executor:\n",
    "    results = executor.map(get_image_from_url, all_image_information)\n"
   ]
  },
  {
   "cell_type": "code",
   "execution_count": 31,
   "id": "094b2b26",
   "metadata": {},
   "outputs": [
    {
     "name": "stderr",
     "output_type": "stream",
     "text": [
      "100%|████████████████████████████████████████████████████████████████████████████| 50000/50000 [09:04<00:00, 91.88it/s]\n"
     ]
    }
   ],
   "source": [
    "master_ingredient_df_train_first_slot = master_ingredient_df_train.head(50000)\n",
    "master_ingredient_df_train_first_slot = master_ingredient_df_train_first_slot.reset_index().drop(['index'], axis=1)\n",
    "\n",
    "# Use tqdm with apply\n",
    "tqdm.pandas()\n",
    "master_ingredient_df_train_first_slot['image_download_status'] = master_ingredient_df_train_first_slot['image_id'].progress_apply(check_each_image_download_status)\n"
   ]
  },
  {
   "cell_type": "code",
   "execution_count": 32,
   "id": "0a164e97",
   "metadata": {},
   "outputs": [
    {
     "data": {
      "text/plain": [
       "Download Success    42484\n",
       "Download Failed      7493\n",
       "Download Error         23\n",
       "Name: image_download_status, dtype: int64"
      ]
     },
     "execution_count": 32,
     "metadata": {},
     "output_type": "execute_result"
    }
   ],
   "source": [
    "master_ingredient_df_train_first_slot['image_download_status'].value_counts()"
   ]
  },
  {
   "cell_type": "code",
   "execution_count": null,
   "id": "73cc6ef3",
   "metadata": {},
   "outputs": [],
   "source": [
    "master_ingredient_df_train_1_error = master_ingredient_df_train_first_slot[master_ingredient_df_train_first_slot['image_download_status'] == \"Download Error\"]\n",
    "master_ingredient_df_train_1_failed = master_ingredient_df_train_first_slot[master_ingredient_df_train_first_slot['image_download_status'] == \"Download Failed\"]\n",
    "master_ingredient_df_train_1_success = master_ingredient_df_train_first_slot[master_ingredient_df_train_first_slot['image_download_status'] == \"Download Success\"]\n",
    "\n",
    "print(master_ingredient_df_train_1_error.shape)\n",
    "print(master_ingredient_df_train_1_failed.shape)\n",
    "print(master_ingredient_df_train_1_success.shape)\n",
    "\n",
    "# Make Final Image\n",
    "expired_image_location = list(master_ingredient_df_train_1_error['image_id'])\n",
    "try:\n",
    "    for expired_image in expired_image_location:\n",
    "        os.remove(os.path.join(image_path, expired_image))\n",
    "except:\n",
    "    pass"
   ]
  },
  {
   "cell_type": "code",
   "execution_count": null,
   "id": "18cef1f4",
   "metadata": {},
   "outputs": [],
   "source": [
    "# Saving First 50000 Image, Ingredient combination in Excel For Further Process\n",
    "excel_1_path = os.path.join(excel_path, \"first_image_ingredient_pair.xlsx\")\n",
    "master_ingredient_df_train_1_success.to_excel(excel_1_path, engine='openpyxl', index=False)"
   ]
  },
  {
   "cell_type": "markdown",
   "id": "20c34a0c",
   "metadata": {},
   "source": [
    "## Dataset Preparation"
   ]
  },
  {
   "cell_type": "code",
   "execution_count": 12,
   "id": "1c3e409c",
   "metadata": {},
   "outputs": [],
   "source": [
    "image_dir_train = image_path\n",
    "excel_dir_train = os.path.join(excel_path, \"first_image_ingredient_pair.xlsx\")"
   ]
  },
  {
   "cell_type": "code",
   "execution_count": 13,
   "id": "3fd2832b",
   "metadata": {},
   "outputs": [],
   "source": [
    "ingredient_excel = pd.read_excel(excel_dir_train, engine=\"openpyxl\")"
   ]
  },
  {
   "cell_type": "code",
   "execution_count": 14,
   "id": "c6bdae91",
   "metadata": {},
   "outputs": [
    {
     "data": {
      "text/html": [
       "<div>\n",
       "<style scoped>\n",
       "    .dataframe tbody tr th:only-of-type {\n",
       "        vertical-align: middle;\n",
       "    }\n",
       "\n",
       "    .dataframe tbody tr th {\n",
       "        vertical-align: top;\n",
       "    }\n",
       "\n",
       "    .dataframe thead th {\n",
       "        text-align: right;\n",
       "    }\n",
       "</style>\n",
       "<table border=\"1\" class=\"dataframe\">\n",
       "  <thead>\n",
       "    <tr style=\"text-align: right;\">\n",
       "      <th></th>\n",
       "      <th>unique_values</th>\n",
       "      <th>counts</th>\n",
       "    </tr>\n",
       "  </thead>\n",
       "  <tbody>\n",
       "    <tr>\n",
       "      <th>0</th>\n",
       "      <td>Guacamole</td>\n",
       "      <td>12</td>\n",
       "    </tr>\n",
       "    <tr>\n",
       "      <th>1</th>\n",
       "      <td>Banana Bread</td>\n",
       "      <td>12</td>\n",
       "    </tr>\n",
       "    <tr>\n",
       "      <th>2</th>\n",
       "      <td>Cinnamon Rolls</td>\n",
       "      <td>11</td>\n",
       "    </tr>\n",
       "    <tr>\n",
       "      <th>3</th>\n",
       "      <td>Chicken Pot Pie</td>\n",
       "      <td>10</td>\n",
       "    </tr>\n",
       "    <tr>\n",
       "      <th>4</th>\n",
       "      <td>Apple Crisp</td>\n",
       "      <td>10</td>\n",
       "    </tr>\n",
       "    <tr>\n",
       "      <th>...</th>\n",
       "      <td>...</td>\n",
       "      <td>...</td>\n",
       "    </tr>\n",
       "    <tr>\n",
       "      <th>19995</th>\n",
       "      <td>Vegan Enchilada Corn Tortillas</td>\n",
       "      <td>1</td>\n",
       "    </tr>\n",
       "    <tr>\n",
       "      <th>19996</th>\n",
       "      <td>30 Minute Chili</td>\n",
       "      <td>1</td>\n",
       "    </tr>\n",
       "    <tr>\n",
       "      <th>19997</th>\n",
       "      <td>Body Butter Whip</td>\n",
       "      <td>1</td>\n",
       "    </tr>\n",
       "    <tr>\n",
       "      <th>19998</th>\n",
       "      <td>Garlic Butter Mushrooms</td>\n",
       "      <td>1</td>\n",
       "    </tr>\n",
       "    <tr>\n",
       "      <th>19999</th>\n",
       "      <td>Italian Pickled Banana Peppers</td>\n",
       "      <td>1</td>\n",
       "    </tr>\n",
       "  </tbody>\n",
       "</table>\n",
       "<p>20000 rows × 2 columns</p>\n",
       "</div>"
      ],
      "text/plain": [
       "                        unique_values  counts\n",
       "0                           Guacamole      12\n",
       "1                        Banana Bread      12\n",
       "2                      Cinnamon Rolls      11\n",
       "3                     Chicken Pot Pie      10\n",
       "4                         Apple Crisp      10\n",
       "...                               ...     ...\n",
       "19995  Vegan Enchilada Corn Tortillas       1\n",
       "19996                 30 Minute Chili       1\n",
       "19997                Body Butter Whip       1\n",
       "19998         Garlic Butter Mushrooms       1\n",
       "19999  Italian Pickled Banana Peppers       1\n",
       "\n",
       "[20000 rows x 2 columns]"
      ]
     },
     "execution_count": 14,
     "metadata": {},
     "output_type": "execute_result"
    }
   ],
   "source": [
    "df_1 = ingredient_excel.title.value_counts().rename_axis('unique_values').reset_index(name='counts')\n",
    "df_1 = df_1.head(20000)\n",
    "df_1"
   ]
  },
  {
   "cell_type": "code",
   "execution_count": 15,
   "id": "7d74707b",
   "metadata": {},
   "outputs": [],
   "source": [
    "final_dish_class_lable = list(df_1.unique_values)"
   ]
  },
  {
   "cell_type": "code",
   "execution_count": 16,
   "id": "0672d955",
   "metadata": {},
   "outputs": [
    {
     "data": {
      "text/plain": [
       "20000"
      ]
     },
     "execution_count": 16,
     "metadata": {},
     "output_type": "execute_result"
    }
   ],
   "source": [
    "len(final_dish_class_lable)"
   ]
  },
  {
   "cell_type": "code",
   "execution_count": 17,
   "id": "a4652e73",
   "metadata": {},
   "outputs": [],
   "source": [
    "ingredient_excel = pd.read_excel(excel_dir_train, engine=\"openpyxl\")\n",
    "ingredient_excel = ingredient_excel[ingredient_excel[ingredient_excel.columns[2]].isin(final_dish_class_lable)]"
   ]
  },
  {
   "cell_type": "code",
   "execution_count": 18,
   "id": "bb99be28",
   "metadata": {},
   "outputs": [
    {
     "data": {
      "text/plain": [
       "(21700, 10)"
      ]
     },
     "execution_count": 18,
     "metadata": {},
     "output_type": "execute_result"
    }
   ],
   "source": [
    "ingredient_excel.shape"
   ]
  },
  {
   "cell_type": "code",
   "execution_count": 19,
   "id": "ebffd5d9",
   "metadata": {},
   "outputs": [
    {
     "name": "stdout",
     "output_type": "stream",
     "text": [
      "20000\n"
     ]
    }
   ],
   "source": [
    "print(ingredient_excel.title.nunique())"
   ]
  },
  {
   "cell_type": "code",
   "execution_count": 20,
   "id": "76ad339b",
   "metadata": {},
   "outputs": [],
   "source": [
    "ingredient_excel['image_path'] = image_dir_train + \"/\" + ingredient_excel['image_id']"
   ]
  },
  {
   "cell_type": "code",
   "execution_count": 21,
   "id": "e1825737",
   "metadata": {},
   "outputs": [
    {
     "data": {
      "text/plain": [
       "0      E:/image/6bdca6e490.jpg\n",
       "34     E:/image/33df1c1c41.jpg\n",
       "53     E:/image/98141b5d94.jpg\n",
       "84     E:/image/4656fed68d.jpg\n",
       "100    E:/image/a2da36f014.jpg\n",
       "106    E:/image/bdb42123fa.jpg\n",
       "109    E:/image/47c7908cf0.jpg\n",
       "124    E:/image/bb6ee2ef59.jpg\n",
       "144    E:/image/778025ea27.jpg\n",
       "192    E:/image/bfa456b018.jpg\n",
       "Name: image_path, dtype: object"
      ]
     },
     "execution_count": 21,
     "metadata": {},
     "output_type": "execute_result"
    }
   ],
   "source": [
    "ingredient_excel['image_path'][0: 10]"
   ]
  },
  {
   "cell_type": "code",
   "execution_count": 22,
   "id": "7cc5ae6f",
   "metadata": {},
   "outputs": [],
   "source": [
    "ingredient_excel = ingredient_excel.reset_index().drop([\"index\"], axis=1)"
   ]
  },
  {
   "cell_type": "code",
   "execution_count": 23,
   "id": "03498e18",
   "metadata": {},
   "outputs": [
    {
     "data": {
      "text/html": [
       "<div>\n",
       "<style scoped>\n",
       "    .dataframe tbody tr th:only-of-type {\n",
       "        vertical-align: middle;\n",
       "    }\n",
       "\n",
       "    .dataframe tbody tr th {\n",
       "        vertical-align: top;\n",
       "    }\n",
       "\n",
       "    .dataframe thead th {\n",
       "        text-align: right;\n",
       "    }\n",
       "</style>\n",
       "<table border=\"1\" class=\"dataframe\">\n",
       "  <thead>\n",
       "    <tr style=\"text-align: right;\">\n",
       "      <th></th>\n",
       "      <th>id</th>\n",
       "      <th>ingredients</th>\n",
       "      <th>title</th>\n",
       "      <th>instructions</th>\n",
       "      <th>partition</th>\n",
       "      <th>images</th>\n",
       "      <th>Image_Status</th>\n",
       "      <th>image_id</th>\n",
       "      <th>image_url</th>\n",
       "      <th>image_download_status</th>\n",
       "      <th>image_path</th>\n",
       "    </tr>\n",
       "  </thead>\n",
       "  <tbody>\n",
       "    <tr>\n",
       "      <th>0</th>\n",
       "      <td>000075604a</td>\n",
       "      <td>[{'text': '2 Chicken thighs'}, {'text': '2 tsp...</td>\n",
       "      <td>Kombu Tea Grilled Chicken Thigh</td>\n",
       "      <td>[{'text': 'Pierce the skin of the chicken with...</td>\n",
       "      <td>train</td>\n",
       "      <td>[{'id': '6bdca6e490.jpg', 'url': 'https://img-...</td>\n",
       "      <td>{'id': '6bdca6e490.jpg', 'url': 'https://img-g...</td>\n",
       "      <td>6bdca6e490.jpg</td>\n",
       "      <td>https://img-global.cpcdn.com/001_recipes/58069...</td>\n",
       "      <td>Download Success</td>\n",
       "      <td>E:/image/6bdca6e490.jpg</td>\n",
       "    </tr>\n",
       "    <tr>\n",
       "      <th>1</th>\n",
       "      <td>000a1936a3</td>\n",
       "      <td>[{'text': '1 lb Ground beef'}, {'text': '40 oz...</td>\n",
       "      <td>Stuffed peppers</td>\n",
       "      <td>[{'text': 'Cook Ground beef and drain using st...</td>\n",
       "      <td>train</td>\n",
       "      <td>[{'id': '33df1c1c41.jpg', 'url': 'https://img-...</td>\n",
       "      <td>{'id': '33df1c1c41.jpg', 'url': 'https://img-g...</td>\n",
       "      <td>33df1c1c41.jpg</td>\n",
       "      <td>https://img-global.cpcdn.com/001_recipes/56599...</td>\n",
       "      <td>Download Success</td>\n",
       "      <td>E:/image/33df1c1c41.jpg</td>\n",
       "    </tr>\n",
       "    <tr>\n",
       "      <th>2</th>\n",
       "      <td>001098c661</td>\n",
       "      <td>[{'text': '3 Squids(cut into small squares)'},...</td>\n",
       "      <td>Paella</td>\n",
       "      <td>[{'text': 'Fry the onions and chicken drumstic...</td>\n",
       "      <td>train</td>\n",
       "      <td>[{'id': '98141b5d94.jpg', 'url': 'https://img-...</td>\n",
       "      <td>{'id': '98141b5d94.jpg', 'url': 'https://img-g...</td>\n",
       "      <td>98141b5d94.jpg</td>\n",
       "      <td>https://img-global.cpcdn.com/001_recipes/58371...</td>\n",
       "      <td>Download Success</td>\n",
       "      <td>E:/image/98141b5d94.jpg</td>\n",
       "    </tr>\n",
       "    <tr>\n",
       "      <th>3</th>\n",
       "      <td>00174f1b21</td>\n",
       "      <td>[{'text': '1 stick Softened Butter'}, {'text':...</td>\n",
       "      <td>Pumpkin Spice Pound Cake</td>\n",
       "      <td>[{'text': 'Preheat oven to 325 F.'}, {'text': ...</td>\n",
       "      <td>train</td>\n",
       "      <td>[{'id': '4656fed68d.jpg', 'url': 'http://tasty...</td>\n",
       "      <td>{'id': '4656fed68d.jpg', 'url': 'http://tastyk...</td>\n",
       "      <td>4656fed68d.jpg</td>\n",
       "      <td>http://tastykitchen.com/recipes/wp-content/upl...</td>\n",
       "      <td>Download Success</td>\n",
       "      <td>E:/image/4656fed68d.jpg</td>\n",
       "    </tr>\n",
       "    <tr>\n",
       "      <th>4</th>\n",
       "      <td>001aff2ed1</td>\n",
       "      <td>[{'text': '1 whole Recipe (or Store-bought Mix...</td>\n",
       "      <td>Peanut Butter Cookie Dough Brownies</td>\n",
       "      <td>[{'text': 'Prepare brownie recipe, adding the ...</td>\n",
       "      <td>train</td>\n",
       "      <td>[{'id': 'a2da36f014.jpg', 'url': 'http://tasty...</td>\n",
       "      <td>{'id': 'a2da36f014.jpg', 'url': 'http://tastyk...</td>\n",
       "      <td>a2da36f014.jpg</td>\n",
       "      <td>http://tastykitchen.com/recipes/wp-content/upl...</td>\n",
       "      <td>Download Success</td>\n",
       "      <td>E:/image/a2da36f014.jpg</td>\n",
       "    </tr>\n",
       "  </tbody>\n",
       "</table>\n",
       "</div>"
      ],
      "text/plain": [
       "           id                                        ingredients  \\\n",
       "0  000075604a  [{'text': '2 Chicken thighs'}, {'text': '2 tsp...   \n",
       "1  000a1936a3  [{'text': '1 lb Ground beef'}, {'text': '40 oz...   \n",
       "2  001098c661  [{'text': '3 Squids(cut into small squares)'},...   \n",
       "3  00174f1b21  [{'text': '1 stick Softened Butter'}, {'text':...   \n",
       "4  001aff2ed1  [{'text': '1 whole Recipe (or Store-bought Mix...   \n",
       "\n",
       "                                 title  \\\n",
       "0      Kombu Tea Grilled Chicken Thigh   \n",
       "1                      Stuffed peppers   \n",
       "2                               Paella   \n",
       "3             Pumpkin Spice Pound Cake   \n",
       "4  Peanut Butter Cookie Dough Brownies   \n",
       "\n",
       "                                        instructions partition  \\\n",
       "0  [{'text': 'Pierce the skin of the chicken with...     train   \n",
       "1  [{'text': 'Cook Ground beef and drain using st...     train   \n",
       "2  [{'text': 'Fry the onions and chicken drumstic...     train   \n",
       "3  [{'text': 'Preheat oven to 325 F.'}, {'text': ...     train   \n",
       "4  [{'text': 'Prepare brownie recipe, adding the ...     train   \n",
       "\n",
       "                                              images  \\\n",
       "0  [{'id': '6bdca6e490.jpg', 'url': 'https://img-...   \n",
       "1  [{'id': '33df1c1c41.jpg', 'url': 'https://img-...   \n",
       "2  [{'id': '98141b5d94.jpg', 'url': 'https://img-...   \n",
       "3  [{'id': '4656fed68d.jpg', 'url': 'http://tasty...   \n",
       "4  [{'id': 'a2da36f014.jpg', 'url': 'http://tasty...   \n",
       "\n",
       "                                        Image_Status        image_id  \\\n",
       "0  {'id': '6bdca6e490.jpg', 'url': 'https://img-g...  6bdca6e490.jpg   \n",
       "1  {'id': '33df1c1c41.jpg', 'url': 'https://img-g...  33df1c1c41.jpg   \n",
       "2  {'id': '98141b5d94.jpg', 'url': 'https://img-g...  98141b5d94.jpg   \n",
       "3  {'id': '4656fed68d.jpg', 'url': 'http://tastyk...  4656fed68d.jpg   \n",
       "4  {'id': 'a2da36f014.jpg', 'url': 'http://tastyk...  a2da36f014.jpg   \n",
       "\n",
       "                                           image_url image_download_status  \\\n",
       "0  https://img-global.cpcdn.com/001_recipes/58069...      Download Success   \n",
       "1  https://img-global.cpcdn.com/001_recipes/56599...      Download Success   \n",
       "2  https://img-global.cpcdn.com/001_recipes/58371...      Download Success   \n",
       "3  http://tastykitchen.com/recipes/wp-content/upl...      Download Success   \n",
       "4  http://tastykitchen.com/recipes/wp-content/upl...      Download Success   \n",
       "\n",
       "                image_path  \n",
       "0  E:/image/6bdca6e490.jpg  \n",
       "1  E:/image/33df1c1c41.jpg  \n",
       "2  E:/image/98141b5d94.jpg  \n",
       "3  E:/image/4656fed68d.jpg  \n",
       "4  E:/image/a2da36f014.jpg  "
      ]
     },
     "execution_count": 23,
     "metadata": {},
     "output_type": "execute_result"
    }
   ],
   "source": [
    "master_ingredient_dataframe = pd.concat([ingredient_excel], axis=0)\n",
    "master_ingredient_dataframe = master_ingredient_dataframe.reset_index().drop(['index'], axis=1)\n",
    "master_ingredient_dataframe.head()"
   ]
  },
  {
   "cell_type": "code",
   "execution_count": 24,
   "id": "0b468e51",
   "metadata": {},
   "outputs": [
    {
     "name": "stdout",
     "output_type": "stream",
     "text": [
      "20000\n"
     ]
    }
   ],
   "source": [
    "print(master_ingredient_dataframe.title.nunique())"
   ]
  },
  {
   "cell_type": "code",
   "execution_count": 25,
   "id": "626e991e",
   "metadata": {},
   "outputs": [
    {
     "name": "stdout",
     "output_type": "stream",
     "text": [
      "(21700, 11)\n"
     ]
    }
   ],
   "source": [
    "print(master_ingredient_dataframe.shape)"
   ]
  },
  {
   "cell_type": "code",
   "execution_count": 26,
   "id": "683d6d52",
   "metadata": {},
   "outputs": [
    {
     "data": {
      "text/html": [
       "<div>\n",
       "<style scoped>\n",
       "    .dataframe tbody tr th:only-of-type {\n",
       "        vertical-align: middle;\n",
       "    }\n",
       "\n",
       "    .dataframe tbody tr th {\n",
       "        vertical-align: top;\n",
       "    }\n",
       "\n",
       "    .dataframe thead th {\n",
       "        text-align: right;\n",
       "    }\n",
       "</style>\n",
       "<table border=\"1\" class=\"dataframe\">\n",
       "  <thead>\n",
       "    <tr style=\"text-align: right;\">\n",
       "      <th></th>\n",
       "      <th>unique_values</th>\n",
       "      <th>counts</th>\n",
       "    </tr>\n",
       "  </thead>\n",
       "  <tbody>\n",
       "    <tr>\n",
       "      <th>0</th>\n",
       "      <td>Banana Bread</td>\n",
       "      <td>12</td>\n",
       "    </tr>\n",
       "    <tr>\n",
       "      <th>1</th>\n",
       "      <td>Guacamole</td>\n",
       "      <td>12</td>\n",
       "    </tr>\n",
       "    <tr>\n",
       "      <th>2</th>\n",
       "      <td>Cinnamon Rolls</td>\n",
       "      <td>11</td>\n",
       "    </tr>\n",
       "    <tr>\n",
       "      <th>3</th>\n",
       "      <td>Apple Crisp</td>\n",
       "      <td>10</td>\n",
       "    </tr>\n",
       "    <tr>\n",
       "      <th>4</th>\n",
       "      <td>Chicken Enchiladas</td>\n",
       "      <td>10</td>\n",
       "    </tr>\n",
       "  </tbody>\n",
       "</table>\n",
       "</div>"
      ],
      "text/plain": [
       "        unique_values  counts\n",
       "0        Banana Bread      12\n",
       "1           Guacamole      12\n",
       "2      Cinnamon Rolls      11\n",
       "3         Apple Crisp      10\n",
       "4  Chicken Enchiladas      10"
      ]
     },
     "execution_count": 26,
     "metadata": {},
     "output_type": "execute_result"
    }
   ],
   "source": [
    "master_ingredient_dataframe_df_1 = master_ingredient_dataframe.title.value_counts().rename_axis('unique_values').reset_index(name='counts')\n",
    "master_ingredient_dataframe_df_1 = master_ingredient_dataframe_df_1.head(30)\n",
    "master_ingredient_dataframe_df_1.head()"
   ]
  },
  {
   "cell_type": "code",
   "execution_count": 27,
   "id": "ff04e9bd",
   "metadata": {},
   "outputs": [
    {
     "data": {
      "image/png": "[encoded data removed]",
      "text/plain": [
       "<Figure size 720x360 with 1 Axes>"
      ]
     },
     "metadata": {
      "needs_background": "light"
     },
     "output_type": "display_data"
    }
   ],
   "source": [
    "plt.figure(figsize=(10,5))\n",
    "sns.barplot(x = 'unique_values', y = 'counts', data = master_ingredient_dataframe_df_1)\n",
    "plt.title('Unique Values vs Topic Count' , fontsize = 17)\n",
    "plt.xlabel('Unique Values', fontsize = 15)\n",
    "plt.ylabel('Topic Count', fontsize = 15)\n",
    "plt.tick_params(labelsize = 12)\n",
    "plt.xticks(rotation = 90)\n",
    "plt.show()"
   ]
  },
  {
   "cell_type": "code",
   "execution_count": 28,
   "id": "90575405",
   "metadata": {},
   "outputs": [],
   "source": [
    "val_count = dict(zip(list(master_ingredient_dataframe_df_1['unique_values']), list(master_ingredient_dataframe_df_1['counts'])))"
   ]
  },
  {
   "cell_type": "code",
   "execution_count": 29,
   "id": "5ad6d462",
   "metadata": {},
   "outputs": [
    {
     "data": {
      "text/html": [
       "<div>\n",
       "<style scoped>\n",
       "    .dataframe tbody tr th:only-of-type {\n",
       "        vertical-align: middle;\n",
       "    }\n",
       "\n",
       "    .dataframe tbody tr th {\n",
       "        vertical-align: top;\n",
       "    }\n",
       "\n",
       "    .dataframe thead th {\n",
       "        text-align: right;\n",
       "    }\n",
       "</style>\n",
       "<table border=\"1\" class=\"dataframe\">\n",
       "  <thead>\n",
       "    <tr style=\"text-align: right;\">\n",
       "      <th></th>\n",
       "      <th>id</th>\n",
       "      <th>ingredients</th>\n",
       "      <th>title</th>\n",
       "      <th>instructions</th>\n",
       "      <th>partition</th>\n",
       "      <th>images</th>\n",
       "      <th>Image_Status</th>\n",
       "      <th>image_id</th>\n",
       "      <th>image_url</th>\n",
       "      <th>image_download_status</th>\n",
       "      <th>image_path</th>\n",
       "    </tr>\n",
       "  </thead>\n",
       "  <tbody>\n",
       "    <tr>\n",
       "      <th>0</th>\n",
       "      <td>000075604a</td>\n",
       "      <td>[{'text': '2 Chicken thighs'}, {'text': '2 tsp...</td>\n",
       "      <td>Kombu Tea Grilled Chicken Thigh</td>\n",
       "      <td>[{'text': 'Pierce the skin of the chicken with...</td>\n",
       "      <td>train</td>\n",
       "      <td>[{'id': '6bdca6e490.jpg', 'url': 'https://img-...</td>\n",
       "      <td>{'id': '6bdca6e490.jpg', 'url': 'https://img-g...</td>\n",
       "      <td>6bdca6e490.jpg</td>\n",
       "      <td>https://img-global.cpcdn.com/001_recipes/58069...</td>\n",
       "      <td>Download Success</td>\n",
       "      <td>E:/image/6bdca6e490.jpg</td>\n",
       "    </tr>\n",
       "    <tr>\n",
       "      <th>1</th>\n",
       "      <td>000a1936a3</td>\n",
       "      <td>[{'text': '1 lb Ground beef'}, {'text': '40 oz...</td>\n",
       "      <td>Stuffed peppers</td>\n",
       "      <td>[{'text': 'Cook Ground beef and drain using st...</td>\n",
       "      <td>train</td>\n",
       "      <td>[{'id': '33df1c1c41.jpg', 'url': 'https://img-...</td>\n",
       "      <td>{'id': '33df1c1c41.jpg', 'url': 'https://img-g...</td>\n",
       "      <td>33df1c1c41.jpg</td>\n",
       "      <td>https://img-global.cpcdn.com/001_recipes/56599...</td>\n",
       "      <td>Download Success</td>\n",
       "      <td>E:/image/33df1c1c41.jpg</td>\n",
       "    </tr>\n",
       "    <tr>\n",
       "      <th>2</th>\n",
       "      <td>001098c661</td>\n",
       "      <td>[{'text': '3 Squids(cut into small squares)'},...</td>\n",
       "      <td>Paella</td>\n",
       "      <td>[{'text': 'Fry the onions and chicken drumstic...</td>\n",
       "      <td>train</td>\n",
       "      <td>[{'id': '98141b5d94.jpg', 'url': 'https://img-...</td>\n",
       "      <td>{'id': '98141b5d94.jpg', 'url': 'https://img-g...</td>\n",
       "      <td>98141b5d94.jpg</td>\n",
       "      <td>https://img-global.cpcdn.com/001_recipes/58371...</td>\n",
       "      <td>Download Success</td>\n",
       "      <td>E:/image/98141b5d94.jpg</td>\n",
       "    </tr>\n",
       "    <tr>\n",
       "      <th>3</th>\n",
       "      <td>00174f1b21</td>\n",
       "      <td>[{'text': '1 stick Softened Butter'}, {'text':...</td>\n",
       "      <td>Pumpkin Spice Pound Cake</td>\n",
       "      <td>[{'text': 'Preheat oven to 325 F.'}, {'text': ...</td>\n",
       "      <td>train</td>\n",
       "      <td>[{'id': '4656fed68d.jpg', 'url': 'http://tasty...</td>\n",
       "      <td>{'id': '4656fed68d.jpg', 'url': 'http://tastyk...</td>\n",
       "      <td>4656fed68d.jpg</td>\n",
       "      <td>http://tastykitchen.com/recipes/wp-content/upl...</td>\n",
       "      <td>Download Success</td>\n",
       "      <td>E:/image/4656fed68d.jpg</td>\n",
       "    </tr>\n",
       "    <tr>\n",
       "      <th>4</th>\n",
       "      <td>001aff2ed1</td>\n",
       "      <td>[{'text': '1 whole Recipe (or Store-bought Mix...</td>\n",
       "      <td>Peanut Butter Cookie Dough Brownies</td>\n",
       "      <td>[{'text': 'Prepare brownie recipe, adding the ...</td>\n",
       "      <td>train</td>\n",
       "      <td>[{'id': 'a2da36f014.jpg', 'url': 'http://tasty...</td>\n",
       "      <td>{'id': 'a2da36f014.jpg', 'url': 'http://tastyk...</td>\n",
       "      <td>a2da36f014.jpg</td>\n",
       "      <td>http://tastykitchen.com/recipes/wp-content/upl...</td>\n",
       "      <td>Download Success</td>\n",
       "      <td>E:/image/a2da36f014.jpg</td>\n",
       "    </tr>\n",
       "  </tbody>\n",
       "</table>\n",
       "</div>"
      ],
      "text/plain": [
       "           id                                        ingredients  \\\n",
       "0  000075604a  [{'text': '2 Chicken thighs'}, {'text': '2 tsp...   \n",
       "1  000a1936a3  [{'text': '1 lb Ground beef'}, {'text': '40 oz...   \n",
       "2  001098c661  [{'text': '3 Squids(cut into small squares)'},...   \n",
       "3  00174f1b21  [{'text': '1 stick Softened Butter'}, {'text':...   \n",
       "4  001aff2ed1  [{'text': '1 whole Recipe (or Store-bought Mix...   \n",
       "\n",
       "                                 title  \\\n",
       "0      Kombu Tea Grilled Chicken Thigh   \n",
       "1                      Stuffed peppers   \n",
       "2                               Paella   \n",
       "3             Pumpkin Spice Pound Cake   \n",
       "4  Peanut Butter Cookie Dough Brownies   \n",
       "\n",
       "                                        instructions partition  \\\n",
       "0  [{'text': 'Pierce the skin of the chicken with...     train   \n",
       "1  [{'text': 'Cook Ground beef and drain using st...     train   \n",
       "2  [{'text': 'Fry the onions and chicken drumstic...     train   \n",
       "3  [{'text': 'Preheat oven to 325 F.'}, {'text': ...     train   \n",
       "4  [{'text': 'Prepare brownie recipe, adding the ...     train   \n",
       "\n",
       "                                              images  \\\n",
       "0  [{'id': '6bdca6e490.jpg', 'url': 'https://img-...   \n",
       "1  [{'id': '33df1c1c41.jpg', 'url': 'https://img-...   \n",
       "2  [{'id': '98141b5d94.jpg', 'url': 'https://img-...   \n",
       "3  [{'id': '4656fed68d.jpg', 'url': 'http://tasty...   \n",
       "4  [{'id': 'a2da36f014.jpg', 'url': 'http://tasty...   \n",
       "\n",
       "                                        Image_Status        image_id  \\\n",
       "0  {'id': '6bdca6e490.jpg', 'url': 'https://img-g...  6bdca6e490.jpg   \n",
       "1  {'id': '33df1c1c41.jpg', 'url': 'https://img-g...  33df1c1c41.jpg   \n",
       "2  {'id': '98141b5d94.jpg', 'url': 'https://img-g...  98141b5d94.jpg   \n",
       "3  {'id': '4656fed68d.jpg', 'url': 'http://tastyk...  4656fed68d.jpg   \n",
       "4  {'id': 'a2da36f014.jpg', 'url': 'http://tastyk...  a2da36f014.jpg   \n",
       "\n",
       "                                           image_url image_download_status  \\\n",
       "0  https://img-global.cpcdn.com/001_recipes/58069...      Download Success   \n",
       "1  https://img-global.cpcdn.com/001_recipes/56599...      Download Success   \n",
       "2  https://img-global.cpcdn.com/001_recipes/58371...      Download Success   \n",
       "3  http://tastykitchen.com/recipes/wp-content/upl...      Download Success   \n",
       "4  http://tastykitchen.com/recipes/wp-content/upl...      Download Success   \n",
       "\n",
       "                image_path  \n",
       "0  E:/image/6bdca6e490.jpg  \n",
       "1  E:/image/33df1c1c41.jpg  \n",
       "2  E:/image/98141b5d94.jpg  \n",
       "3  E:/image/4656fed68d.jpg  \n",
       "4  E:/image/a2da36f014.jpg  "
      ]
     },
     "execution_count": 29,
     "metadata": {},
     "output_type": "execute_result"
    }
   ],
   "source": [
    "master_ingredient_dataframe.head()"
   ]
  },
  {
   "cell_type": "code",
   "execution_count": 30,
   "id": "e09a55a5",
   "metadata": {},
   "outputs": [
    {
     "data": {
      "text/plain": [
       "(21700, 11)"
      ]
     },
     "execution_count": 30,
     "metadata": {},
     "output_type": "execute_result"
    }
   ],
   "source": [
    "master_ingredient_dataframe.shape"
   ]
  },
  {
   "cell_type": "code",
   "execution_count": 31,
   "id": "696b70df",
   "metadata": {},
   "outputs": [
    {
     "name": "stdout",
     "output_type": "stream",
     "text": [
      "21700\n"
     ]
    }
   ],
   "source": [
    "print(master_ingredient_dataframe.id.nunique())"
   ]
  },
  {
   "cell_type": "code",
   "execution_count": 32,
   "id": "421789be",
   "metadata": {},
   "outputs": [
    {
     "name": "stdout",
     "output_type": "stream",
     "text": [
      "20000\n"
     ]
    }
   ],
   "source": [
    "print(master_ingredient_dataframe.title.nunique())"
   ]
  },
  {
   "cell_type": "code",
   "execution_count": 33,
   "id": "562f5040",
   "metadata": {},
   "outputs": [
    {
     "data": {
      "text/plain": [
       "'E:/image/6bdca6e490.jpg'"
      ]
     },
     "execution_count": 33,
     "metadata": {},
     "output_type": "execute_result"
    }
   ],
   "source": [
    "master_ingredient_dataframe.iloc[[0]]['image_path'].values[0]"
   ]
  },
  {
   "cell_type": "code",
   "execution_count": 34,
   "id": "cfecbfef",
   "metadata": {},
   "outputs": [
    {
     "data": {
      "text/plain": [
       "'E:/image/33df1c1c41.jpg'"
      ]
     },
     "execution_count": 34,
     "metadata": {},
     "output_type": "execute_result"
    }
   ],
   "source": [
    "master_ingredient_dataframe.iloc[[1]]['image_path'].values[0]"
   ]
  },
  {
   "cell_type": "code",
   "execution_count": 35,
   "id": "91943c99",
   "metadata": {},
   "outputs": [],
   "source": [
    "def get_top_words_based_on_cnt(words_dict,n_words):\n",
    "    n_words+=1\n",
    "    keys=list(words_dict.keys())\n",
    "    values=list(words_dict.values())\n",
    "    sorted_values=sorted(values,reverse=True)[:n_words]\n",
    "    sorted_keys=[]\n",
    "    for i in sorted_values:\n",
    "        if sorted_values.count(i)==1:\n",
    "            sorted_keys.append(keys[values.index(i)])\n",
    "        elif sorted_values.count(i)==2:\n",
    "            f_idx=values.index(i)\n",
    "            s_idx=values[f_idx+1:].index(i)\n",
    "            s_idx+=f_idx+1\n",
    "            a,b=keys[f_idx],keys[s_idx]\n",
    "            if a not in sorted_keys and b not in sorted_keys:\n",
    "                sorted_keys.append(a)\n",
    "                sorted_keys.append(b)\n",
    "    plt.figure(figsize=(10,6))\n",
    "    sns.barplot(x=sorted_keys,y=sorted_values)\n",
    "    plt.xticks(rotation=60)\n",
    "    plt.show()"
   ]
  },
  {
   "cell_type": "code",
   "execution_count": 36,
   "id": "b27c97b8",
   "metadata": {},
   "outputs": [],
   "source": [
    "def text_nltk_operation(text):\n",
    "    text = repr(text)\n",
    "    # Text without stopwords\n",
    "    No_StopWords = [word for word in word_tokenize(text) if word.lower() not in stoplist ]\n",
    "    # Convert list of tokens_without_stopwords to String type.\n",
    "    words_string = ' '.join(No_StopWords)    \n",
    "    text = words_string\n",
    "    \n",
    "    \n",
    "    spell = Speller(lang='en')\n",
    "    Corrected_text = spell(text)\n",
    "    text = Corrected_text\n",
    "\n",
    "    \n",
    "    lemma = [lemmatizer.lemmatize(w,'v') for w in w_tokenizer.tokenize(text)]\n",
    "    text = lemma\n",
    "    \n",
    "    return text"
   ]
  },
  {
   "cell_type": "code",
   "execution_count": 37,
   "id": "55140bed",
   "metadata": {},
   "outputs": [],
   "source": [
    "def text_cleaning(text):\n",
    "    \"\"\"\n",
    "    This function will clean the text.\n",
    "    \n",
    "    \"\"\"\n",
    "    \n",
    "    pattern = re.compile(r'\\s+') \n",
    "    Without_whitespace = re.sub(pattern, ' ', text)\n",
    "    # There are some instances where there is no space after '?' & ')', \n",
    "    # So I am replacing these with one space so that It will not consider two words as one token.\n",
    "    text = Without_whitespace.replace('?', ' ? ').replace(')', ') ')\n",
    "    \n",
    "    \n",
    "    text = unidecode.unidecode(text)\n",
    "    \n",
    "    \n",
    "    text = text.lower()\n",
    "    \n",
    "    \n",
    "    # Pattern matching for all case alphabets\n",
    "    Pattern_alpha = re.compile(r\"([A-Za-z])\\1{1,}\", re.DOTALL)\n",
    "    # Limiting all the  repeatation to two characters.\n",
    "    Formatted_text = Pattern_alpha.sub(r\"\\1\\1\", text) \n",
    "    # Pattern matching for all the punctuations that can occur\n",
    "    Pattern_Punct = re.compile(r'([.,/#!$%^&*?;:{}=_`~()+-])\\1{1,}')\n",
    "    # Limiting punctuations in previously formatted string to only one.\n",
    "    Combined_Formatted = Pattern_Punct.sub(r'\\1', Formatted_text)\n",
    "    # The below statement is replacing repeatation of spaces that occur more than two times with that of one occurrence.\n",
    "    Final_Formatted = re.sub(' {2,}',' ', Combined_Formatted)\n",
    "    text = Final_Formatted\n",
    "    \n",
    "    \n",
    "    CONTRACTION_MAP = {\"ain't\": \"is not\", \"aren't\": \"are not\", \"can't\": \"cannot\", \"can't've\": \"cannot have\",\n",
    "                       \"'cause\": \"because\", \"could've\": \"could have\", \"couldn't\": \"could not\", \"couldn't've\": \"could not have\",\n",
    "        \"didn't\": \"did not\",\n",
    "        \"doesn't\": \"does not\",\n",
    "        \"don't\": \"do not\",\n",
    "        \"hadn't\": \"had not\",\n",
    "        \"hadn't've\": \"had not have\",\n",
    "        \"hasn't\": \"has not\",\n",
    "        \"haven't\": \"have not\",\n",
    "        \"he'd\": \"he would\",\n",
    "        \"he'd've\": \"he would have\",\n",
    "        \"he'll\": \"he will\",\n",
    "        \"he'll've\": \"he he will have\",\n",
    "        \"he's\": \"he is\",\n",
    "        \"how'd\": \"how did\",\n",
    "        \"how'd'y\": \"how do you\",\n",
    "        \"how'll\": \"how will\",\n",
    "        \"how's\": \"how is\",\n",
    "        \"i'd\": \"i would\",\n",
    "        \"i'd've\": \"i would have\",\n",
    "        \"i'll\": \"i will\",\n",
    "        \"i'll've\": \"i will have\",\n",
    "        \"i'm\": \"i am\",\n",
    "        \"i've\": \"i have\",\n",
    "        \"isn't\": \"is not\",\n",
    "        \"it'd\": \"it would\",\n",
    "        \"it'd've\": \"it would have\",\n",
    "        \"it'll\": \"it will\",\n",
    "        \"it'll've\": \"it will have\",\n",
    "        \"it's\": \"it is\",\n",
    "        \"let's\": \"let us\",\n",
    "        \"ma'am\": \"madam\",\n",
    "        \"mayn't\": \"may not\",\n",
    "        \"might've\": \"might have\",\n",
    "        \"mightn't\": \"might not\",\n",
    "        \"mightn't've\": \"might not have\",\n",
    "        \"must've\": \"must have\",\n",
    "        \"mustn't\": \"must not\",\n",
    "        \"mustn't've\": \"must not have\",\n",
    "        \"needn't\": \"need not\",\n",
    "        \"needn't've\": \"need not have\",\n",
    "        \"o'clock\": \"of the clock\",\n",
    "        \"oughtn't\": \"ought not\",\n",
    "        \"oughtn't've\": \"ought not have\",\n",
    "        \"shan't\": \"shall not\",\n",
    "        \"sha'n't\": \"shall not\",\n",
    "        \"shan't've\": \"shall not have\",\n",
    "        \"she'd\": \"she would\",\n",
    "        \"she'd've\": \"she would have\",\n",
    "        \"she'll\": \"she will\",\n",
    "        \"she'll've\": \"she will have\",\n",
    "        \"she's\": \"she is\",\n",
    "        \"should've\": \"should have\",\n",
    "        \"shouldn't\": \"should not\",\n",
    "        \"shouldn't've\": \"should not have\",\n",
    "        \"so've\": \"so have\",\n",
    "        \"so's\": \"so as\",\n",
    "        \"that'd\": \"that would\",\n",
    "        \"that'd've\": \"that would have\",\n",
    "        \"that's\": \"that is\",\n",
    "        \"there'd\": \"there would\",\n",
    "        \"there'd've\": \"there would have\",\n",
    "        \"there's\": \"there is\",\n",
    "        \"they'd\": \"they would\",\n",
    "        \"they'd've\": \"they would have\",\n",
    "        \"they'll\": \"they will\",\n",
    "        \"they'll've\": \"they will have\",\n",
    "        \"they're\": \"they are\",\n",
    "        \"they've\": \"they have\",\n",
    "        \"to've\": \"to have\",\n",
    "        \"wasn't\": \"was not\",\n",
    "        \"we'd\": \"we would\",\n",
    "        \"we'd've\": \"we would have\",\n",
    "        \"we'll\": \"we will\",\n",
    "        \"we'll've\": \"we will have\",\n",
    "        \"we're\": \"we are\",\n",
    "        \"we've\": \"we have\",\n",
    "        \"weren't\": \"were not\",\n",
    "        \"what'll\": \"what will\",\n",
    "        \"what'll've\": \"what will have\",\n",
    "        \"what're\": \"what are\",\n",
    "        \"what's\": \"what is\",\n",
    "        \"what've\": \"what have\",\n",
    "        \"when's\": \"when is\",\n",
    "        \"when've\": \"when have\",\n",
    "        \"where'd\": \"where did\",\n",
    "        \"where's\": \"where is\",\n",
    "        \"where've\": \"where have\",\n",
    "        \"who'll\": \"who will\",\n",
    "        \"who'll've\": \"who will have\",\n",
    "        \"who's\": \"who is\",\n",
    "        \"who've\": \"who have\",\n",
    "        \"why's\": \"why is\",\n",
    "        \"why've\": \"why have\",\n",
    "        \"will've\": \"will have\",\n",
    "        \"won't\": \"will not\",\n",
    "        \"won't've\": \"will not have\",\n",
    "        \"would've\": \"would have\",\n",
    "        \"wouldn't\": \"would not\",\n",
    "        \"wouldn't've\": \"would not have\",\n",
    "        \"y'all\": \"you all\",\n",
    "        \"y'all'd\": \"you all would\",\n",
    "        \"y'all'd've\": \"you all would have\",\n",
    "        \"y'all're\": \"you all are\",\n",
    "        \"y'all've\": \"you all have\",\n",
    "        \"you'd\": \"you would\",\n",
    "        \"you'd've\": \"you would have\",\n",
    "        \"you'll\": \"you will\",\n",
    "        \"you'll've\": \"you will have\",\n",
    "        \"you're\": \"you are\",\n",
    "        \"you've\": \"you have\",\n",
    "        }\n",
    "    list_Of_tokens = text.split(' ')\n",
    "    # Checking for whether the given token matches with the Key & replacing word with key's value.\n",
    "    # Check whether Word is in lidt_Of_tokens or not.\n",
    "    for Word in list_Of_tokens: \n",
    "        # Check whether found word is in dictionary \"Contraction Map\" or not as a key. \n",
    "         if Word in CONTRACTION_MAP: \n",
    "                # If Word is present in both dictionary & list_Of_tokens, replace that word with the key value.\n",
    "                list_Of_tokens = [item.replace(Word, CONTRACTION_MAP[Word]) for item in list_Of_tokens]\n",
    "    # Converting list of tokens to String.\n",
    "    String_Of_tokens = ' '.join(str(e) for e in list_Of_tokens) \n",
    "    text = String_Of_tokens\n",
    "    \n",
    "    \n",
    "    # The formatted text after removing not necessary punctuations.\n",
    "    Formatted_Text = re.sub(r\"[\\'\\'-()\\\"#/@;:<>{}=~|.?,!0-9]\", \"\", text)\n",
    "#     Formatted_Text = re.sub(r\"[^a-zA-Z\\:\\-,.?!]+\", ' ', text) \n",
    "    # In the above regex expression,I am providing necessary set of punctuations that are frequent in this particular dataset.\n",
    "    text = str(Formatted_Text).strip()\n",
    "    \n",
    "\n",
    "    return text    "
   ]
  },
  {
   "cell_type": "code",
   "execution_count": 38,
   "id": "f7386a66",
   "metadata": {},
   "outputs": [],
   "source": [
    "def remove_link(text):\n",
    "    \"\"\"\n",
    "    This function will remove all the occurrences of links.\n",
    "    \n",
    "    \"\"\"\n",
    "    \n",
    "    # Removing all the occurrences of links that starts with https\n",
    "    remove_https = re.sub(r'http\\S+', '', text)\n",
    "    # Remove all the occurrences of text that ends with .com\n",
    "    remove_com = re.sub(r\"\\ [A-Za-z]*\\.com\", \" \", remove_https)\n",
    "    return remove_com"
   ]
  },
  {
   "cell_type": "code",
   "execution_count": 39,
   "id": "5a0291e9",
   "metadata": {},
   "outputs": [],
   "source": [
    "def remove_html_tag(text):\n",
    "    \"\"\" \n",
    "    This function will remove all the occurrences of html tags from the text.\n",
    "      \n",
    "    \"\"\"\n",
    "    # Initiating BeautifulSoup object soup.\n",
    "    soup = BeautifulSoup(text, \"html.parser\")\n",
    "    # Get all the text other than html tags.\n",
    "    stripped_text = soup.get_text(separator=\" \")\n",
    "    return stripped_text"
   ]
  },
  {
   "cell_type": "code",
   "execution_count": 40,
   "id": "ff54c907",
   "metadata": {},
   "outputs": [],
   "source": [
    "def remove_newline(text):\n",
    "    \"\"\"\n",
    "    This function will remove all the occurrences of newlines, tabs, and combinations like: \\\\n, \\\\.\n",
    "    \n",
    "    \"\"\"\n",
    "    \n",
    "    # Replacing all the occurrences of \\n,\\\\n,\\t,\\\\ with a space.\n",
    "    Formatted_text = text.replace('\\\\n', ' ').replace('\\n', ' ').replace('\\t',' ').replace('\\\\', ' ').replace('. com', '.com')\n",
    "    return Formatted_text"
   ]
  },
  {
   "cell_type": "code",
   "execution_count": 41,
   "id": "32364daf",
   "metadata": {},
   "outputs": [],
   "source": [
    "def get_updated_ingredient(data):\n",
    "    ingr = eval(data)\n",
    "    ingr = \" and \".join([str(ingr_text['text']).lower() for ingr_text in ingr])\n",
    "#     ingr = re.sub()\n",
    "    return ingr"
   ]
  },
  {
   "cell_type": "code",
   "execution_count": 42,
   "id": "283f160b",
   "metadata": {},
   "outputs": [
    {
     "data": {
      "text/plain": [
       "\"[{'text': '2 Chicken thighs'}, {'text': '2 tsp Kombu tea'}, {'text': '1 White pepper'}]\""
      ]
     },
     "execution_count": 42,
     "metadata": {},
     "output_type": "execute_result"
    }
   ],
   "source": [
    "master_ingredient_dataframe.iloc[[0]]['ingredients'].values[0]"
   ]
  },
  {
   "cell_type": "code",
   "execution_count": 43,
   "id": "0fd7964d",
   "metadata": {},
   "outputs": [
    {
     "data": {
      "text/plain": [
       "\"[{'text': '1 lb Ground beef'}, {'text': '40 oz kidney beans'}, {'text': '1 cooked Jasmine white rice (or your favorite )'}, {'text': '1 medium onion'}, {'text': '4 large large bell peppers'}, {'text': '1 garlic powder'}, {'text': '1 onion powder'}, {'text': '1 can can diced tomatoes ( fiery garlic or your choice )'}, {'text': '24 oz spaghetti sauce (I used garden vegetable )'}, {'text': '1 shredded cheese (sharp cheddar and 6 cheese blend)'}]\""
      ]
     },
     "execution_count": 43,
     "metadata": {},
     "output_type": "execute_result"
    }
   ],
   "source": [
    "master_ingredient_dataframe.iloc[[1]]['ingredients'].values[0]"
   ]
  },
  {
   "cell_type": "code",
   "execution_count": 44,
   "id": "882ab345",
   "metadata": {},
   "outputs": [],
   "source": [
    "# test_df = master_ingredient_dataframe.head(5)\n",
    "test_df = master_ingredient_dataframe.copy(deep=True)"
   ]
  },
  {
   "cell_type": "code",
   "execution_count": 45,
   "id": "5017e85f",
   "metadata": {},
   "outputs": [
    {
     "name": "stderr",
     "output_type": "stream",
     "text": [
      "100%|█████████████████████████████████████████████████████████████████████████| 21700/21700 [00:00<00:00, 28562.88it/s]\n"
     ]
    }
   ],
   "source": [
    "# Take all ingredients\n",
    "# Pandas Progres Apply\n",
    "# Use tqdm with apply\n",
    "tqdm.pandas()\n",
    "test_df['ingredient_v1'] = test_df['ingredients'].progress_apply(get_updated_ingredient)"
   ]
  },
  {
   "cell_type": "code",
   "execution_count": 46,
   "id": "7f234721",
   "metadata": {},
   "outputs": [
    {
     "data": {
      "text/plain": [
       "(21700, 12)"
      ]
     },
     "execution_count": 46,
     "metadata": {},
     "output_type": "execute_result"
    }
   ],
   "source": [
    "test_df.shape"
   ]
  },
  {
   "cell_type": "code",
   "execution_count": 47,
   "id": "1f31022d",
   "metadata": {},
   "outputs": [
    {
     "data": {
      "text/plain": [
       "'3 squids(cut into small squares) and 8 tiger prawns (shelled and uncooked) and 2 red peppers(cubed) and 2 cup peas and 4 chicken drumsticks and 1 onions(cubed) and 1 pinch saffron and 1 packages paella rice and 1 packages mussels in wine sauce and 2 chicken stock and 1 packages cherry tomatoes and 1/2 packages beans'"
      ]
     },
     "execution_count": 47,
     "metadata": {},
     "output_type": "execute_result"
    }
   ],
   "source": [
    "test_df['ingredient_v1'].loc[0: 10].values[2]"
   ]
  },
  {
   "cell_type": "code",
   "execution_count": 48,
   "id": "0616d298",
   "metadata": {},
   "outputs": [
    {
     "name": "stderr",
     "output_type": "stream",
     "text": [
      "100%|████████████████████████████████████████████████████████████████████████| 21700/21700 [00:00<00:00, 594206.53it/s]\n"
     ]
    }
   ],
   "source": [
    "# Remove newline charecter\n",
    "# Use tqdm with apply\n",
    "tqdm.pandas()\n",
    "test_df['ingredient_v2'] = test_df['ingredient_v1'].progress_apply(remove_newline)"
   ]
  },
  {
   "cell_type": "code",
   "execution_count": 49,
   "id": "6cef3381",
   "metadata": {},
   "outputs": [
    {
     "data": {
      "text/plain": [
       "'3 squids(cut into small squares) and 8 tiger prawns (shelled and uncooked) and 2 red peppers(cubed) and 2 cup peas and 4 chicken drumsticks and 1 onions(cubed) and 1 pinch saffron and 1 packages paella rice and 1 packages mussels in wine sauce and 2 chicken stock and 1 packages cherry tomatoes and 1/2 packages beans'"
      ]
     },
     "execution_count": 49,
     "metadata": {},
     "output_type": "execute_result"
    }
   ],
   "source": [
    "test_df['ingredient_v1'].loc[0: 10].values[2]"
   ]
  },
  {
   "cell_type": "code",
   "execution_count": 50,
   "id": "493640e6",
   "metadata": {},
   "outputs": [
    {
     "name": "stderr",
     "output_type": "stream",
     "text": [
      "100%|█████████████████████████████████████████████████████████████████████████| 21700/21700 [00:00<00:00, 22394.70it/s]\n"
     ]
    }
   ],
   "source": [
    "# Remove HTML tag\n",
    "# Use tqdm with apply\n",
    "tqdm.pandas()\n",
    "test_df['ingredient_v2'] = test_df['ingredient_v2'].progress_apply(remove_html_tag)"
   ]
  },
  {
   "cell_type": "code",
   "execution_count": 51,
   "id": "5e5372d8",
   "metadata": {},
   "outputs": [
    {
     "data": {
      "text/plain": [
       "'3 squids(cut into small squares) and 8 tiger prawns (shelled and uncooked) and 2 red peppers(cubed) and 2 cup peas and 4 chicken drumsticks and 1 onions(cubed) and 1 pinch saffron and 1 packages paella rice and 1 packages mussels in wine sauce and 2 chicken stock and 1 packages cherry tomatoes and 1/2 packages beans'"
      ]
     },
     "execution_count": 51,
     "metadata": {},
     "output_type": "execute_result"
    }
   ],
   "source": [
    "test_df['ingredient_v1'].loc[0: 10].values[2]"
   ]
  },
  {
   "cell_type": "code",
   "execution_count": 52,
   "id": "88fd5950",
   "metadata": {},
   "outputs": [
    {
     "name": "stderr",
     "output_type": "stream",
     "text": [
      "100%|████████████████████████████████████████████████████████████████████████| 21700/21700 [00:00<00:00, 224066.84it/s]\n"
     ]
    }
   ],
   "source": [
    "# Remove hyperlink or link\n",
    "# Use tqdm with apply\n",
    "tqdm.pandas()\n",
    "test_df['ingredient_v2'] = test_df['ingredient_v2'].progress_apply(remove_link)"
   ]
  },
  {
   "cell_type": "code",
   "execution_count": 53,
   "id": "e1232c6f",
   "metadata": {},
   "outputs": [
    {
     "data": {
      "text/plain": [
       "'3 squids(cut into small squares) and 8 tiger prawns (shelled and uncooked) and 2 red peppers(cubed) and 2 cup peas and 4 chicken drumsticks and 1 onions(cubed) and 1 pinch saffron and 1 packages paella rice and 1 packages mussels in wine sauce and 2 chicken stock and 1 packages cherry tomatoes and 1/2 packages beans'"
      ]
     },
     "execution_count": 53,
     "metadata": {},
     "output_type": "execute_result"
    }
   ],
   "source": [
    "test_df['ingredient_v1'].loc[0: 10].values[2]"
   ]
  },
  {
   "cell_type": "code",
   "execution_count": 54,
   "id": "7a0e243c",
   "metadata": {},
   "outputs": [
    {
     "name": "stderr",
     "output_type": "stream",
     "text": [
      "100%|█████████████████████████████████████████████████████████████████████████| 21700/21700 [00:01<00:00, 15240.26it/s]\n"
     ]
    }
   ],
   "source": [
    "# Text Cleaning\n",
    "# Use tqdm with apply\n",
    "tqdm.pandas()\n",
    "test_df['ingredient_v2'] = test_df['ingredient_v2'].progress_apply(text_cleaning)"
   ]
  },
  {
   "cell_type": "code",
   "execution_count": 55,
   "id": "b1744c10",
   "metadata": {},
   "outputs": [
    {
     "data": {
      "text/plain": [
       "'3 squids(cut into small squares) and 8 tiger prawns (shelled and uncooked) and 2 red peppers(cubed) and 2 cup peas and 4 chicken drumsticks and 1 onions(cubed) and 1 pinch saffron and 1 packages paella rice and 1 packages mussels in wine sauce and 2 chicken stock and 1 packages cherry tomatoes and 1/2 packages beans'"
      ]
     },
     "execution_count": 55,
     "metadata": {},
     "output_type": "execute_result"
    }
   ],
   "source": [
    "test_df['ingredient_v1'].loc[0: 10].values[2]"
   ]
  },
  {
   "cell_type": "code",
   "execution_count": 58,
   "id": "d7950740",
   "metadata": {},
   "outputs": [
    {
     "name": "stderr",
     "output_type": "stream",
     "text": [
      "100%|██████████████████████████████████████████████████████████████████████████| 21700/21700 [2:27:34<00:00,  2.45it/s]\n"
     ]
    }
   ],
   "source": [
    "# Perform NLTK Operations\n",
    "# Use tqdm with apply\n",
    "# tqdm.pandas()\n",
    "test_df['ingredient_nltk'] = test_df['ingredient_v2'].progress_apply(text_nltk_operation)"
   ]
  },
  {
   "cell_type": "code",
   "execution_count": 60,
   "id": "7e6b50f9",
   "metadata": {},
   "outputs": [
    {
     "data": {
      "text/plain": [
       "[\"'squidscut\",\n",
       " 'small',\n",
       " 'square',\n",
       " 'tiger',\n",
       " 'pawn',\n",
       " 'shell',\n",
       " 'cook',\n",
       " 'red',\n",
       " 'pepperscubed',\n",
       " 'cup',\n",
       " 'peas',\n",
       " 'chicken',\n",
       " 'drumsticks',\n",
       " 'onionscubed',\n",
       " 'pinch',\n",
       " 'saffron',\n",
       " 'package',\n",
       " 'della',\n",
       " 'rice',\n",
       " 'package',\n",
       " 'mussels',\n",
       " 'wine',\n",
       " 'sauce',\n",
       " 'chicken',\n",
       " 'stock',\n",
       " 'package',\n",
       " 'cherry',\n",
       " 'tomatoes',\n",
       " 'package',\n",
       " 'bean',\n",
       " \"'\"]"
      ]
     },
     "execution_count": 60,
     "metadata": {},
     "output_type": "execute_result"
    }
   ],
   "source": [
    "test_df['ingredient_nltk'].loc[0: 10].values[2]"
   ]
  },
  {
   "cell_type": "code",
   "execution_count": 61,
   "id": "d53d18c1",
   "metadata": {},
   "outputs": [],
   "source": [
    "# Save the NLTK Ingredients Excel\n",
    "test_df.to_excel(os.path.join(excel_path, \"preprocessed_ingredient.xlsx\"), index=False, engine='openpyxl')"
   ]
  },
  {
   "cell_type": "code",
   "execution_count": 62,
   "id": "ed7aa34c",
   "metadata": {},
   "outputs": [],
   "source": [
    "# def apply_multithreaded_with_progress(func, df, num_threads):\n",
    "#     results = []\n",
    "#     with tqdm(total=len(df)) as pbar:\n",
    "#         def update_progress(*args):\n",
    "#             pbar.update()\n",
    "#         with concurrent.futures.ThreadPoolExecutor(max_workers=num_threads) as executor:\n",
    "#             futures = {executor.submit(func, row): row for _, row in df.iteritems()}\n",
    "#             for future in concurrent.futures.as_completed(futures):\n",
    "#                 result = future.result()\n",
    "#                 results.append(result)\n",
    "#                 update_progress()\n",
    "#     return pd.Series(results, index=df.index)"
   ]
  },
  {
   "cell_type": "code",
   "execution_count": 63,
   "id": "50c70553",
   "metadata": {},
   "outputs": [],
   "source": [
    "# Apply the function using multithreading with tqdm progress bar\n",
    "# df['ingredient_nltk'] = apply_multithreaded_with_progress(text_nltk_operation, test_df['ingredient_v2'], num_threads=2000)\n",
    "# test_df['ingredient_nltk'] = test_df['ingredient_v2'].head(1000).swifter.apply(text_nltk_operation, num_workers=2000, axis=1)"
   ]
  },
  {
   "cell_type": "code",
   "execution_count": null,
   "id": "d96bc98c",
   "metadata": {},
   "outputs": [],
   "source": []
  }
 ],
 "metadata": {
  "kernelspec": {
   "display_name": "Python 3 (ipykernel)",
   "language": "python",
   "name": "python3"
  },
  "language_info": {
   "codemirror_mode": {
    "name": "ipython",
    "version": 3
   },
   "file_extension": ".py",
   "mimetype": "text/x-python",
   "name": "python",
   "nbconvert_exporter": "python",
   "pygments_lexer": "ipython3",
   "version": "3.9.7"
  }
 },
 "nbformat": 4,
 "nbformat_minor": 5
}
